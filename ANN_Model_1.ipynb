{
  "nbformat": 4,
  "nbformat_minor": 0,
  "metadata": {
    "colab": {
      "private_outputs": true,
      "provenance": [],
      "gpuType": "V100",
      "mount_file_id": "1aJ8rTpBvSEXNZvGc56ePh8e_E4n75Kkr",
      "authorship_tag": "ABX9TyMkNHODxSQTBie68iqg1HQ6",
      "include_colab_link": true
    },
    "kernelspec": {
      "name": "python3",
      "display_name": "Python 3"
    },
    "language_info": {
      "name": "python"
    },
    "accelerator": "GPU"
  },
  "cells": [
    {
      "cell_type": "markdown",
      "metadata": {
        "id": "view-in-github",
        "colab_type": "text"
      },
      "source": [
        "<a href=\"https://colab.research.google.com/github/raavi2002/Tensorflow/blob/main/ANN_Model_1.ipynb\" target=\"_parent\"><img src=\"https://colab.research.google.com/assets/colab-badge.svg\" alt=\"Open In Colab\"/></a>"
      ]
    },
    {
      "cell_type": "markdown",
      "source": [
        "# Import packages needed for ANN\n"
      ],
      "metadata": {
        "id": "fV50JQxX5PDE"
      }
    },
    {
      "cell_type": "code",
      "source": [
        "import pandas as pd\n",
        "import numpy  as np\n",
        "import matplotlib.pyplot as plt\n",
        "import seaborn as sns\n",
        "import tensorflow as tf\n",
        "from tensorflow import keras\n",
        "from numpy.random import randint"
      ],
      "metadata": {
        "id": "oRWqxoXp5qGp"
      },
      "execution_count": null,
      "outputs": []
    },
    {
      "cell_type": "markdown",
      "source": [
        "# Read the fashion MNIST data from Keras dataset package"
      ],
      "metadata": {
        "id": "5ub9-qH657sH"
      }
    },
    {
      "cell_type": "code",
      "source": [
        "(X_train, y_train), (X_test, y_test) = keras.datasets.fashion_mnist.load_data()\n",
        "print(X_train.shape, X_test.shape, y_train.shape, y_test.shape)"
      ],
      "metadata": {
        "id": "6J1rQSWA6HgY"
      },
      "execution_count": null,
      "outputs": []
    },
    {
      "cell_type": "markdown",
      "source": [
        "# Visualization of dataset"
      ],
      "metadata": {
        "id": "a4YbBNp85nES"
      }
    },
    {
      "cell_type": "code",
      "source": [
        "class_names = [\n",
        "    \"T-shirt/top\",\n",
        "    \"Trouser\",\n",
        "    \"Pullover\",\n",
        "    \"Dress\",\n",
        "    \"Coat\",\n",
        "    \"Sandal\",\n",
        "    \"Shirt\",\n",
        "    \"Sneaker\",\n",
        "    \"Bag\",\n",
        "    \"Ankle boot\"\n",
        "]\n",
        "fig, axes = plt.subplots(nrows=10, ncols=10, figsize=(10,10))\n",
        "for i in range(10):\n",
        "  for j in range(10):\n",
        "    ax = axes[i,j]\n",
        "    k = np.random.randint(5000)\n",
        "    ax.imshow(X_train[k])\n",
        "    ax.set_axis_off()\n",
        "    ax.set_title(class_names[y_train[k]])\n",
        "plt.tight_layout()\n",
        "plt.show()"
      ],
      "metadata": {
        "id": "Yu07U5sK8ziT"
      },
      "execution_count": null,
      "outputs": []
    },
    {
      "cell_type": "markdown",
      "source": [
        "# Standardisation of data"
      ],
      "metadata": {
        "id": "gX0S5a9g8xpy"
      }
    },
    {
      "cell_type": "code",
      "source": [
        "X_train = X_train/255\n",
        "X_test  = X_test/255"
      ],
      "metadata": {
        "id": "DpV0L8j1AdaB"
      },
      "execution_count": null,
      "outputs": []
    },
    {
      "cell_type": "markdown",
      "source": [
        "# Build a ANN Model"
      ],
      "metadata": {
        "id": "G9uOufYTAooF"
      }
    },
    {
      "cell_type": "code",
      "source": [
        "from keras.models import Sequential\n",
        "from keras.layers import Dense, Flatten\n",
        "ANN_model = Sequential()\n",
        "ANN_model.add(Flatten(input_shape=(28, 28)))\n",
        "ANN_model.add(Dense(1000, activation = 'relu'))\n",
        "ANN_model.add(Dense(10, activation='softmax'))\n",
        "ANN_model.summary()"
      ],
      "metadata": {
        "id": "gzc7MqokAvSW"
      },
      "execution_count": null,
      "outputs": []
    },
    {
      "cell_type": "markdown",
      "source": [
        "#Call Back definition"
      ],
      "metadata": {
        "id": "SQeoagql5kUj"
      }
    },
    {
      "cell_type": "code",
      "source": [
        "callback_path = \"model-{val_accuracy:02f}-{epoch:03d}.hd5\"\n",
        "model_checkpoint = tf.keras.callbacks.ModelCheckpoint(\n",
        "    filepath=callback_path,\n",
        "    save_best_only=True,\n",
        "    mode='max',\n",
        "    monitor='val_accuracy'\n",
        ")"
      ],
      "metadata": {
        "id": "g9LGdjPlBoOX"
      },
      "execution_count": null,
      "outputs": []
    },
    {
      "cell_type": "markdown",
      "source": [
        "# Compile the ANN Model"
      ],
      "metadata": {
        "id": "vWCw4FBsCQKW"
      }
    },
    {
      "cell_type": "code",
      "source": [
        "ANN_model.compile(optimizer='adam', loss='sparse_categorical_crossentropy', metrics=['accuracy'])"
      ],
      "metadata": {
        "id": "Ne0RzM98DMgh"
      },
      "execution_count": null,
      "outputs": []
    },
    {
      "cell_type": "markdown",
      "source": [
        "# Train the ANN model"
      ],
      "metadata": {
        "id": "86LvYVauEWtW"
      }
    },
    {
      "cell_type": "code",
      "source": [
        "ANN_model.fit(X_train, y_train, validation_split=0.33, batch_size=600, epochs=10, callbacks=[model_checkpoint])"
      ],
      "metadata": {
        "id": "rpq6aNhjEd7l"
      },
      "execution_count": null,
      "outputs": []
    },
    {
      "cell_type": "markdown",
      "source": [
        "# Load the best model"
      ],
      "metadata": {
        "id": "raC7Uw2tFsAa"
      }
    },
    {
      "cell_type": "code",
      "source": [
        "best_model = tf.keras.models.load_model(\"/content/model-0.882885-007.hd5\")"
      ],
      "metadata": {
        "id": "lVmEOQkMFxC3"
      },
      "execution_count": null,
      "outputs": []
    },
    {
      "cell_type": "markdown",
      "source": [
        "# Evaluate the best model"
      ],
      "metadata": {
        "id": "xqbIBn5AFvOl"
      }
    },
    {
      "cell_type": "code",
      "source": [
        "best_model.evaluate(X_test, y_test)"
      ],
      "metadata": {
        "id": "lgUIHeCMGntU"
      },
      "execution_count": null,
      "outputs": []
    }
  ]
}